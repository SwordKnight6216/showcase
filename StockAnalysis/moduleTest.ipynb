{
 "cells": [
  {
   "cell_type": "code",
   "execution_count": 4,
   "metadata": {
    "collapsed": true
   },
   "outputs": [],
   "source": [
    "import Stock\n",
    "from datetime import datetime"
   ]
  },
  {
   "cell_type": "code",
   "execution_count": 5,
   "metadata": {
    "collapsed": false
   },
   "outputs": [],
   "source": [
    "AAPL = Stock.Stock('AAPL',datetime.now())"
   ]
  },
  {
   "cell_type": "code",
   "execution_count": 6,
   "metadata": {
    "collapsed": false
   },
   "outputs": [
    {
     "name": "stdout",
     "output_type": "stream",
     "text": [
      "252 records with 6 columns from 2015-12-18 00:00:00 to 2016-12-16 00:00:00 for the stock AAPL\n",
      "\n",
      "columns names: Index(['Open', 'High', 'Low', 'Close', 'Volume', 'Adj Close'], dtype='object')\n",
      "\n",
      "metadata: \n",
      "              Open        High         Low       Close        Volume  \\\n",
      "count  252.000000  252.000000  252.000000  252.000000  2.520000e+02   \n",
      "mean   104.196587  105.109206  103.345278  104.268056  3.897871e+07   \n",
      "std      7.259323    7.229538    7.323918    7.303161  1.729695e+07   \n",
      "min     90.000000   91.669998   89.470001   90.339996  1.142440e+07   \n",
      "25%     97.295000   98.205000   96.542502   97.137499  2.734900e+07   \n",
      "50%    105.494999  106.279999  104.794998  105.694999  3.392695e+07   \n",
      "75%    109.742500  110.557501  109.022498  109.949997  4.534200e+07   \n",
      "max    118.180000  118.690002  117.449997  118.250000  1.333697e+08   \n",
      "\n",
      "        Adj Close  \n",
      "count  252.000000  \n",
      "mean   103.178216  \n",
      "std      7.637033  \n",
      "min     89.394274  \n",
      "25%     95.808918  \n",
      "50%    104.112977  \n",
      "75%    109.340999  \n",
      "max    117.645979   \n",
      "\n",
      "here is the top 10 records: \n",
      "                   Open        High         Low       Close    Volume  \\\n",
      "Date                                                                   \n",
      "2015-12-18  108.910004  109.519997  105.809998  106.029999  96453300   \n",
      "2015-12-21  107.279999  107.370003  105.570000  107.330002  47590600   \n",
      "2015-12-22  107.400002  107.720001  106.449997  107.230003  32789400   \n",
      "2015-12-23  107.269997  108.849998  107.199997  108.610001  32657400   \n",
      "2015-12-24  109.000000  109.000000  107.949997  108.029999  13570400   \n",
      "2015-12-28  107.589996  107.690002  106.180000  106.820000  26704200   \n",
      "2015-12-29  106.959999  109.430000  106.860001  108.739998  30931200   \n",
      "2015-12-30  108.580002  108.699997  107.180000  107.320000  25213800   \n",
      "2015-12-31  107.010002  107.029999  104.820000  105.260002  40635300   \n",
      "2016-01-04  102.610001  105.370003  102.000000  105.349998  67649400   \n",
      "\n",
      "             Adj Close  \n",
      "Date                    \n",
      "2015-12-18  103.722263  \n",
      "2015-12-21  104.993971  \n",
      "2015-12-22  104.896149  \n",
      "2015-12-23  106.246111  \n",
      "2015-12-24  105.678733  \n",
      "2015-12-28  104.495069  \n",
      "2015-12-29  106.373279  \n",
      "2015-12-30  104.984187  \n",
      "2015-12-31  102.969025  \n",
      "2016-01-04  103.057063  \n"
     ]
    }
   ],
   "source": [
    "AAPL.get_stock_metadata()"
   ]
  }
 ],
 "metadata": {
  "kernelspec": {
   "display_name": "Python [conda root]",
   "language": "python",
   "name": "conda-root-py"
  },
  "language_info": {
   "codemirror_mode": {
    "name": "ipython",
    "version": 3
   },
   "file_extension": ".py",
   "mimetype": "text/x-python",
   "name": "python",
   "nbconvert_exporter": "python",
   "pygments_lexer": "ipython3",
   "version": "3.5.2"
  }
 },
 "nbformat": 4,
 "nbformat_minor": 2
}
