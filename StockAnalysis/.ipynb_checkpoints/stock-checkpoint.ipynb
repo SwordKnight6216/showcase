{
 "cells": [
  {
   "cell_type": "code",
   "execution_count": 1,
   "metadata": {
    "collapsed": true
   },
   "outputs": [],
   "source": [
    "import pandas_datareader.data as web\n",
    "from datetime import datetime\n",
    "import pandas as pd\n",
    "from pandas import Series, DataFrame\n",
    "import numpy as np"
   ]
  },
  {
   "cell_type": "code",
   "execution_count": 90,
   "metadata": {
    "collapsed": false
   },
   "outputs": [],
   "source": [
    "class stock:\n",
    "    \n",
    "    '''Return specific stock data for specific time period'''\n",
    "    \n",
    "    _stock_list = []\n",
    "    \n",
    "    def __init__(self,stock_name,enddate,length = 1,source='yahoo'):\n",
    "        self._stock_name = stock_name\n",
    "        self._length = length\n",
    "        self._end_date = enddate\n",
    "        \n",
    "        self._start_date = datetime(self._end_date.year-self._length,self._end_date.month,self._end_date.day)\n",
    "        self._source = source\n",
    "        \n",
    "        self.stock = self._get_stock_data()\n",
    "        self._stock_list.append(self._stock_name)\n",
    "   \n",
    "\n",
    "    def _get_stock_data(self):\n",
    "        return web.DataReader(self._stock_name,self._source,self._start_date,self._end_date)\n",
    "    \n",
    "    \n",
    "    def get_stock_metadata(self):\n",
    "        print('{} records with {} columns from {} to {} for the stock {}\\n'.format(self.stock.shape[0],self.stock.shape[1],min(self.stock.index),max(self.stock.index),self._stock_name))\n",
    "        print('columns names: {}\\n'.format(self.stock.columns))\n",
    "        print('metadata: \\n {} \\n'.format(self.stock.describe()))\n",
    "        print('here is the top 10 records: \\n {}'.format(self.stock.head(10)))\n",
    "    \n",
    "    \n",
    "    @classmethod\n",
    "    def get_stock_list(self):\n",
    "        return self._stock_list\n",
    "        \n",
    "        \n",
    "    @property\n",
    "    def stock_name(self):\n",
    "        print('the stock is: ')\n",
    "        return self._stock_name\n",
    "    \n",
    "    @stock_name.setter\n",
    "    def stock_name(self,stock_name):        \n",
    "        self._stock_name = stock_name\n",
    "        self.stock = self._get_stock_data()\n",
    "        self._stock_list.append(self._stock_name)\n",
    "        print('the new stock set to: {}'.format(self._stock_name))\n",
    "        \n",
    "        \n",
    "    @property\n",
    "    def length(self):\n",
    "        print('the length is: {}'.format(self._length))\n",
    "        return self._length\n",
    "    \n",
    "    @length.setter\n",
    "    def length(self,length):\n",
    "        self._length = length\n",
    "        self._start_date = datetime(self._end_date.year-self._length,self._end_date.month,self._end_date.day)\n",
    "        self.stock = self._get_stock_data()\n",
    "        print('the new length set to: {}'.format(self._length))\n",
    "        \n",
    "        "
   ]
  },
  {
   "cell_type": "code",
   "execution_count": 91,
   "metadata": {
    "collapsed": false
   },
   "outputs": [],
   "source": [
    "s = stock('GOOG',datetime.now())"
   ]
  },
  {
   "cell_type": "code",
   "execution_count": 92,
   "metadata": {
    "collapsed": false
   },
   "outputs": [
    {
     "name": "stdout",
     "output_type": "stream",
     "text": [
      "the length is: 1\n"
     ]
    }
   ],
   "source": [
    "tmp = s.length"
   ]
  },
  {
   "cell_type": "code",
   "execution_count": 96,
   "metadata": {
    "collapsed": false
   },
   "outputs": [
    {
     "data": {
      "text/plain": [
       "['GOOG']"
      ]
     },
     "execution_count": 96,
     "metadata": {},
     "output_type": "execute_result"
    }
   ],
   "source": [
    "s.get_stock_list()"
   ]
  },
  {
   "cell_type": "code",
   "execution_count": 94,
   "metadata": {
    "collapsed": false
   },
   "outputs": [
    {
     "name": "stdout",
     "output_type": "stream",
     "text": [
      "the new length set to: 2\n"
     ]
    }
   ],
   "source": [
    "s.length = 2"
   ]
  },
  {
   "cell_type": "code",
   "execution_count": 95,
   "metadata": {
    "collapsed": false
   },
   "outputs": [
    {
     "name": "stdout",
     "output_type": "stream",
     "text": [
      "504 records with 6 columns from 2014-12-18 00:00:00 to 2016-12-16 00:00:00 for the stock GOOG\n",
      "\n",
      "columns names: Index(['Open', 'High', 'Low', 'Close', 'Volume', 'Adj Close'], dtype='object')\n",
      "\n",
      "metadata: \n",
      "              Open        High         Low       Close        Volume  \\\n",
      "count  504.000000  504.000000  504.000000  504.000000  5.040000e+02   \n",
      "mean   668.364738  673.936127  662.365156  668.282582  1.966266e+06   \n",
      "std     95.013112   95.474024   94.520274   94.886550  1.009401e+06   \n",
      "min    494.652237  495.978230  487.562205  492.552239  5.272000e+05   \n",
      "25%    555.016904  560.547523  550.674989  555.505008  1.366150e+06   \n",
      "50%    702.269989  709.864990  694.220002  701.829987  1.717300e+06   \n",
      "75%    749.662491  755.017243  743.002502  749.437500  2.199825e+06   \n",
      "max    816.679993  816.679993  805.140015  813.109985  1.116490e+07   \n",
      "\n",
      "        Adj Close  \n",
      "count  504.000000  \n",
      "mean   668.282582  \n",
      "std     94.886550  \n",
      "min    492.552239  \n",
      "25%    555.505008  \n",
      "50%    701.829987  \n",
      "75%    749.437500  \n",
      "max    813.109985   \n",
      "\n",
      "here is the top 10 records: \n",
      "                   Open        High         Low       Close   Volume  \\\n",
      "Date                                                                  \n",
      "2014-12-18  512.952333  513.872306  504.702290  511.102319  2926700   \n",
      "2014-12-19  511.512318  517.722342  506.913280  516.352313  3690200   \n",
      "2014-12-22  516.082347  526.462376  516.082347  524.872383  2723700   \n",
      "2014-12-23  527.002370  534.562410  526.292354  530.592416  2197600   \n",
      "2014-12-24  530.512424  531.761394  527.022384  528.772422   705900   \n",
      "2014-12-26  528.772422  534.252417  527.312364  534.032392  1040500   \n",
      "2014-12-29  532.192385  535.482414  530.013375  530.332426  2278500   \n",
      "2014-12-30  528.092396  531.152424  527.132366  530.422394   876200   \n",
      "2014-12-31  531.252429  532.602384  525.802363  526.402397  1368200   \n",
      "2015-01-02  529.012399  531.272382  524.102388  524.812404  1447500   \n",
      "\n",
      "             Adj Close  \n",
      "Date                    \n",
      "2014-12-18  511.102319  \n",
      "2014-12-19  516.352313  \n",
      "2014-12-22  524.872383  \n",
      "2014-12-23  530.592416  \n",
      "2014-12-24  528.772422  \n",
      "2014-12-26  534.032392  \n",
      "2014-12-29  530.332426  \n",
      "2014-12-30  530.422394  \n",
      "2014-12-31  526.402397  \n",
      "2015-01-02  524.812404  \n"
     ]
    }
   ],
   "source": [
    "s.get_stock_metadata()"
   ]
  },
  {
   "cell_type": "code",
   "execution_count": null,
   "metadata": {
    "collapsed": true
   },
   "outputs": [],
   "source": []
  }
 ],
 "metadata": {
  "kernelspec": {
   "display_name": "Python [conda root]",
   "language": "python",
   "name": "conda-root-py"
  },
  "language_info": {
   "codemirror_mode": {
    "name": "ipython",
    "version": 3
   },
   "file_extension": ".py",
   "mimetype": "text/x-python",
   "name": "python",
   "nbconvert_exporter": "python",
   "pygments_lexer": "ipython3",
   "version": "3.5.2"
  }
 },
 "nbformat": 4,
 "nbformat_minor": 2
}
